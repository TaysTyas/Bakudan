{
 "cells": [
  {
   "cell_type": "markdown",
   "metadata": {
    "colab_type": "text",
    "id": "view-in-github"
   },
   "source": [
    "<a href=\"https://colab.research.google.com/github/TaysTyas/Bakudan/blob/master/Model_Prediksi_Berat_Badan.ipynb\" target=\"_parent\"><img src=\"https://colab.research.google.com/assets/colab-badge.svg\" alt=\"Open In Colab\"/></a>"
   ]
  },
  {
   "cell_type": "markdown",
   "metadata": {
    "id": "tX44oKs5wCo1"
   },
   "source": [
    "#Modelling Prediksi Berat Badan"
   ]
  },
  {
   "cell_type": "markdown",
   "metadata": {
    "id": "UFnQOnyDwZ-8"
   },
   "source": [
    "###Import Library"
   ]
  },
  {
   "cell_type": "code",
   "execution_count": 1,
   "metadata": {
    "id": "X7VLLkypwBhS"
   },
   "outputs": [],
   "source": [
    "#import library\n",
    "import pandas as pd\n",
    "import numpy as np\n",
    "from sklearn.linear_model import LinearRegression\n",
    "from sklearn.ensemble import RandomForestRegressor\n",
    "from sklearn.svm import SVR\n",
    "from sklearn.neighbors import KNeighborsRegressor\n",
    "from sklearn.preprocessing import PolynomialFeatures\n",
    "from sklearn.tree import DecisionTreeRegressor\n",
    "from sklearn.model_selection import train_test_split\n",
    "from sklearn.preprocessing import LabelEncoder, StandardScaler\n",
    "import warnings\n",
    "from sklearn.metrics import mean_squared_error, mean_absolute_percentage_error,mean_absolute_error\n",
    "warnings.filterwarnings('ignore')\n",
    "import joblib"
   ]
  },
  {
   "cell_type": "code",
   "execution_count": 2,
   "metadata": {
    "id": "NMe58jz1XobR"
   },
   "outputs": [],
   "source": [
    "#load dataset\n",
    "dataset  = \"https://raw.githubusercontent.com/TaysTyas/Bakudan/master/weight-height.csv\"\n",
    "data = pd.read_csv(dataset)"
   ]
  },
  {
   "cell_type": "code",
   "execution_count": 3,
   "metadata": {
    "colab": {
     "base_uri": "https://localhost:8080/",
     "height": 206
    },
    "id": "0FpGIS-sXuIq",
    "outputId": "3f7e5965-0458-4408-ec15-4aa29db84963"
   },
   "outputs": [
    {
     "data": {
      "text/html": [
       "<div>\n",
       "<style scoped>\n",
       "    .dataframe tbody tr th:only-of-type {\n",
       "        vertical-align: middle;\n",
       "    }\n",
       "\n",
       "    .dataframe tbody tr th {\n",
       "        vertical-align: top;\n",
       "    }\n",
       "\n",
       "    .dataframe thead th {\n",
       "        text-align: right;\n",
       "    }\n",
       "</style>\n",
       "<table border=\"1\" class=\"dataframe\">\n",
       "  <thead>\n",
       "    <tr style=\"text-align: right;\">\n",
       "      <th></th>\n",
       "      <th>Gender</th>\n",
       "      <th>Height</th>\n",
       "      <th>Weight</th>\n",
       "    </tr>\n",
       "  </thead>\n",
       "  <tbody>\n",
       "    <tr>\n",
       "      <th>0</th>\n",
       "      <td>Male</td>\n",
       "      <td>73.847017</td>\n",
       "      <td>241.893563</td>\n",
       "    </tr>\n",
       "    <tr>\n",
       "      <th>1</th>\n",
       "      <td>Male</td>\n",
       "      <td>68.781904</td>\n",
       "      <td>162.310473</td>\n",
       "    </tr>\n",
       "    <tr>\n",
       "      <th>2</th>\n",
       "      <td>Male</td>\n",
       "      <td>74.110105</td>\n",
       "      <td>212.740856</td>\n",
       "    </tr>\n",
       "    <tr>\n",
       "      <th>3</th>\n",
       "      <td>Male</td>\n",
       "      <td>71.730978</td>\n",
       "      <td>220.042470</td>\n",
       "    </tr>\n",
       "    <tr>\n",
       "      <th>4</th>\n",
       "      <td>Male</td>\n",
       "      <td>69.881796</td>\n",
       "      <td>206.349801</td>\n",
       "    </tr>\n",
       "  </tbody>\n",
       "</table>\n",
       "</div>"
      ],
      "text/plain": [
       "  Gender     Height      Weight\n",
       "0   Male  73.847017  241.893563\n",
       "1   Male  68.781904  162.310473\n",
       "2   Male  74.110105  212.740856\n",
       "3   Male  71.730978  220.042470\n",
       "4   Male  69.881796  206.349801"
      ]
     },
     "execution_count": 3,
     "metadata": {},
     "output_type": "execute_result"
    }
   ],
   "source": [
    "#menampilkan 5 dataset teratas\n",
    "data.head()"
   ]
  },
  {
   "cell_type": "code",
   "execution_count": 4,
   "metadata": {
    "colab": {
     "base_uri": "https://localhost:8080/"
    },
    "id": "8Ts93HVmXwfO",
    "outputId": "98fa3261-7a59-4117-b37d-fbb33cb95a51"
   },
   "outputs": [
    {
     "name": "stdout",
     "output_type": "stream",
     "text": [
      "<class 'pandas.core.frame.DataFrame'>\n",
      "RangeIndex: 10000 entries, 0 to 9999\n",
      "Data columns (total 3 columns):\n",
      " #   Column  Non-Null Count  Dtype  \n",
      "---  ------  --------------  -----  \n",
      " 0   Gender  10000 non-null  object \n",
      " 1   Height  10000 non-null  float64\n",
      " 2   Weight  10000 non-null  float64\n",
      "dtypes: float64(2), object(1)\n",
      "memory usage: 234.5+ KB\n"
     ]
    }
   ],
   "source": [
    "#cek tipe data\n",
    "data.info()"
   ]
  },
  {
   "cell_type": "markdown",
   "metadata": {
    "id": "LExQawh83Ovv"
   },
   "source": [
    "###Data Preprocessing"
   ]
  },
  {
   "cell_type": "code",
   "execution_count": 5,
   "metadata": {
    "id": "L0_E1l8E3S72"
   },
   "outputs": [],
   "source": [
    "#membuat label\n",
    "label_enc = LabelEncoder()\n",
    "#Male = 1, Female = 0\n",
    "data.Gender = label_enc.fit_transform(data.Gender)"
   ]
  },
  {
   "cell_type": "code",
   "execution_count": 6,
   "metadata": {
    "colab": {
     "base_uri": "https://localhost:8080/",
     "height": 206
    },
    "id": "qW-el66hX3Vs",
    "outputId": "28445ebf-3956-4e2e-9bee-36eebf8d9d4d"
   },
   "outputs": [
    {
     "data": {
      "text/html": [
       "<div>\n",
       "<style scoped>\n",
       "    .dataframe tbody tr th:only-of-type {\n",
       "        vertical-align: middle;\n",
       "    }\n",
       "\n",
       "    .dataframe tbody tr th {\n",
       "        vertical-align: top;\n",
       "    }\n",
       "\n",
       "    .dataframe thead th {\n",
       "        text-align: right;\n",
       "    }\n",
       "</style>\n",
       "<table border=\"1\" class=\"dataframe\">\n",
       "  <thead>\n",
       "    <tr style=\"text-align: right;\">\n",
       "      <th></th>\n",
       "      <th>Gender</th>\n",
       "      <th>Height</th>\n",
       "      <th>Weight</th>\n",
       "    </tr>\n",
       "  </thead>\n",
       "  <tbody>\n",
       "    <tr>\n",
       "      <th>0</th>\n",
       "      <td>1</td>\n",
       "      <td>73.847017</td>\n",
       "      <td>241.893563</td>\n",
       "    </tr>\n",
       "    <tr>\n",
       "      <th>1</th>\n",
       "      <td>1</td>\n",
       "      <td>68.781904</td>\n",
       "      <td>162.310473</td>\n",
       "    </tr>\n",
       "    <tr>\n",
       "      <th>2</th>\n",
       "      <td>1</td>\n",
       "      <td>74.110105</td>\n",
       "      <td>212.740856</td>\n",
       "    </tr>\n",
       "    <tr>\n",
       "      <th>3</th>\n",
       "      <td>1</td>\n",
       "      <td>71.730978</td>\n",
       "      <td>220.042470</td>\n",
       "    </tr>\n",
       "    <tr>\n",
       "      <th>4</th>\n",
       "      <td>1</td>\n",
       "      <td>69.881796</td>\n",
       "      <td>206.349801</td>\n",
       "    </tr>\n",
       "  </tbody>\n",
       "</table>\n",
       "</div>"
      ],
      "text/plain": [
       "   Gender     Height      Weight\n",
       "0       1  73.847017  241.893563\n",
       "1       1  68.781904  162.310473\n",
       "2       1  74.110105  212.740856\n",
       "3       1  71.730978  220.042470\n",
       "4       1  69.881796  206.349801"
      ]
     },
     "execution_count": 6,
     "metadata": {},
     "output_type": "execute_result"
    }
   ],
   "source": [
    "data.head()"
   ]
  },
  {
   "cell_type": "code",
   "execution_count": 7,
   "metadata": {
    "colab": {
     "base_uri": "https://localhost:8080/",
     "height": 424
    },
    "id": "Mre8nl8VYHcY",
    "outputId": "4b5adca7-2be5-467a-a674-301130e4342e"
   },
   "outputs": [
    {
     "data": {
      "text/html": [
       "<div>\n",
       "<style scoped>\n",
       "    .dataframe tbody tr th:only-of-type {\n",
       "        vertical-align: middle;\n",
       "    }\n",
       "\n",
       "    .dataframe tbody tr th {\n",
       "        vertical-align: top;\n",
       "    }\n",
       "\n",
       "    .dataframe thead th {\n",
       "        text-align: right;\n",
       "    }\n",
       "</style>\n",
       "<table border=\"1\" class=\"dataframe\">\n",
       "  <thead>\n",
       "    <tr style=\"text-align: right;\">\n",
       "      <th></th>\n",
       "      <th>Gender</th>\n",
       "      <th>Height</th>\n",
       "      <th>Weight</th>\n",
       "    </tr>\n",
       "  </thead>\n",
       "  <tbody>\n",
       "    <tr>\n",
       "      <th>0</th>\n",
       "      <td>1</td>\n",
       "      <td>73.847017</td>\n",
       "      <td>241.893563</td>\n",
       "    </tr>\n",
       "    <tr>\n",
       "      <th>1</th>\n",
       "      <td>1</td>\n",
       "      <td>68.781904</td>\n",
       "      <td>162.310473</td>\n",
       "    </tr>\n",
       "    <tr>\n",
       "      <th>2</th>\n",
       "      <td>1</td>\n",
       "      <td>74.110105</td>\n",
       "      <td>212.740856</td>\n",
       "    </tr>\n",
       "    <tr>\n",
       "      <th>3</th>\n",
       "      <td>1</td>\n",
       "      <td>71.730978</td>\n",
       "      <td>220.042470</td>\n",
       "    </tr>\n",
       "    <tr>\n",
       "      <th>4</th>\n",
       "      <td>1</td>\n",
       "      <td>69.881796</td>\n",
       "      <td>206.349801</td>\n",
       "    </tr>\n",
       "    <tr>\n",
       "      <th>...</th>\n",
       "      <td>...</td>\n",
       "      <td>...</td>\n",
       "      <td>...</td>\n",
       "    </tr>\n",
       "    <tr>\n",
       "      <th>9995</th>\n",
       "      <td>0</td>\n",
       "      <td>66.172652</td>\n",
       "      <td>136.777454</td>\n",
       "    </tr>\n",
       "    <tr>\n",
       "      <th>9996</th>\n",
       "      <td>0</td>\n",
       "      <td>67.067155</td>\n",
       "      <td>170.867906</td>\n",
       "    </tr>\n",
       "    <tr>\n",
       "      <th>9997</th>\n",
       "      <td>0</td>\n",
       "      <td>63.867992</td>\n",
       "      <td>128.475319</td>\n",
       "    </tr>\n",
       "    <tr>\n",
       "      <th>9998</th>\n",
       "      <td>0</td>\n",
       "      <td>69.034243</td>\n",
       "      <td>163.852461</td>\n",
       "    </tr>\n",
       "    <tr>\n",
       "      <th>9999</th>\n",
       "      <td>0</td>\n",
       "      <td>61.944246</td>\n",
       "      <td>113.649103</td>\n",
       "    </tr>\n",
       "  </tbody>\n",
       "</table>\n",
       "<p>10000 rows × 3 columns</p>\n",
       "</div>"
      ],
      "text/plain": [
       "      Gender     Height      Weight\n",
       "0          1  73.847017  241.893563\n",
       "1          1  68.781904  162.310473\n",
       "2          1  74.110105  212.740856\n",
       "3          1  71.730978  220.042470\n",
       "4          1  69.881796  206.349801\n",
       "...      ...        ...         ...\n",
       "9995       0  66.172652  136.777454\n",
       "9996       0  67.067155  170.867906\n",
       "9997       0  63.867992  128.475319\n",
       "9998       0  69.034243  163.852461\n",
       "9999       0  61.944246  113.649103\n",
       "\n",
       "[10000 rows x 3 columns]"
      ]
     },
     "execution_count": 7,
     "metadata": {},
     "output_type": "execute_result"
    }
   ],
   "source": [
    "#menampilkan baris dan column pada dataset\n",
    "data"
   ]
  },
  {
   "cell_type": "code",
   "execution_count": 8,
   "metadata": {
    "colab": {
     "base_uri": "https://localhost:8080/",
     "height": 424
    },
    "id": "lTnRquYiYKBV",
    "outputId": "2667c592-dc6d-4ebe-8276-0abd7e5d7f68"
   },
   "outputs": [
    {
     "data": {
      "text/html": [
       "<div>\n",
       "<style scoped>\n",
       "    .dataframe tbody tr th:only-of-type {\n",
       "        vertical-align: middle;\n",
       "    }\n",
       "\n",
       "    .dataframe tbody tr th {\n",
       "        vertical-align: top;\n",
       "    }\n",
       "\n",
       "    .dataframe thead th {\n",
       "        text-align: right;\n",
       "    }\n",
       "</style>\n",
       "<table border=\"1\" class=\"dataframe\">\n",
       "  <thead>\n",
       "    <tr style=\"text-align: right;\">\n",
       "      <th></th>\n",
       "      <th>Gender</th>\n",
       "      <th>Height</th>\n",
       "      <th>Weight</th>\n",
       "    </tr>\n",
       "  </thead>\n",
       "  <tbody>\n",
       "    <tr>\n",
       "      <th>0</th>\n",
       "      <td>1</td>\n",
       "      <td>73.847017</td>\n",
       "      <td>241.893563</td>\n",
       "    </tr>\n",
       "    <tr>\n",
       "      <th>1</th>\n",
       "      <td>1</td>\n",
       "      <td>68.781904</td>\n",
       "      <td>162.310473</td>\n",
       "    </tr>\n",
       "    <tr>\n",
       "      <th>2</th>\n",
       "      <td>1</td>\n",
       "      <td>74.110105</td>\n",
       "      <td>212.740856</td>\n",
       "    </tr>\n",
       "    <tr>\n",
       "      <th>3</th>\n",
       "      <td>1</td>\n",
       "      <td>71.730978</td>\n",
       "      <td>220.042470</td>\n",
       "    </tr>\n",
       "    <tr>\n",
       "      <th>4</th>\n",
       "      <td>1</td>\n",
       "      <td>69.881796</td>\n",
       "      <td>206.349801</td>\n",
       "    </tr>\n",
       "    <tr>\n",
       "      <th>...</th>\n",
       "      <td>...</td>\n",
       "      <td>...</td>\n",
       "      <td>...</td>\n",
       "    </tr>\n",
       "    <tr>\n",
       "      <th>9995</th>\n",
       "      <td>0</td>\n",
       "      <td>66.172652</td>\n",
       "      <td>136.777454</td>\n",
       "    </tr>\n",
       "    <tr>\n",
       "      <th>9996</th>\n",
       "      <td>0</td>\n",
       "      <td>67.067155</td>\n",
       "      <td>170.867906</td>\n",
       "    </tr>\n",
       "    <tr>\n",
       "      <th>9997</th>\n",
       "      <td>0</td>\n",
       "      <td>63.867992</td>\n",
       "      <td>128.475319</td>\n",
       "    </tr>\n",
       "    <tr>\n",
       "      <th>9998</th>\n",
       "      <td>0</td>\n",
       "      <td>69.034243</td>\n",
       "      <td>163.852461</td>\n",
       "    </tr>\n",
       "    <tr>\n",
       "      <th>9999</th>\n",
       "      <td>0</td>\n",
       "      <td>61.944246</td>\n",
       "      <td>113.649103</td>\n",
       "    </tr>\n",
       "  </tbody>\n",
       "</table>\n",
       "<p>10000 rows × 3 columns</p>\n",
       "</div>"
      ],
      "text/plain": [
       "      Gender     Height      Weight\n",
       "0          1  73.847017  241.893563\n",
       "1          1  68.781904  162.310473\n",
       "2          1  74.110105  212.740856\n",
       "3          1  71.730978  220.042470\n",
       "4          1  69.881796  206.349801\n",
       "...      ...        ...         ...\n",
       "9995       0  66.172652  136.777454\n",
       "9996       0  67.067155  170.867906\n",
       "9997       0  63.867992  128.475319\n",
       "9998       0  69.034243  163.852461\n",
       "9999       0  61.944246  113.649103\n",
       "\n",
       "[10000 rows x 3 columns]"
      ]
     },
     "execution_count": 8,
     "metadata": {},
     "output_type": "execute_result"
    }
   ],
   "source": [
    "#Mengubah data Height dari inch ke cm\n",
    "def inch_to_cm(x):\n",
    "    return x*2.54\n",
    "\n",
    "#Mengubah data Weight dari pounds ke kg\n",
    "def pounds_to_kg(x):\n",
    "  return x*0.45359237\n",
    "\n",
    "def convert(data):\n",
    "  data[\"Height\"] = data['Height'].apply(inch_to_cm)\n",
    "  data[\"Weight\"] = data[\"Weight\"].apply(pounds_to_kg)\n",
    "  return data\n",
    "data"
   ]
  },
  {
   "cell_type": "code",
   "execution_count": 9,
   "metadata": {
    "id": "d9T_2sKCYNc5"
   },
   "outputs": [],
   "source": [
    "#menghapus colum Weight karena weight adalah output hasil prediksinya.\n",
    "X = data.drop(\"Weight\", axis=1)\n",
    "y = data[\"Weight\"]"
   ]
  },
  {
   "cell_type": "code",
   "execution_count": 10,
   "metadata": {
    "colab": {
     "base_uri": "https://localhost:8080/",
     "height": 424
    },
    "id": "uA5bYTf4YQl1",
    "outputId": "0b0d957f-2fcd-486d-c052-08a92ea3da29"
   },
   "outputs": [
    {
     "data": {
      "text/html": [
       "<div>\n",
       "<style scoped>\n",
       "    .dataframe tbody tr th:only-of-type {\n",
       "        vertical-align: middle;\n",
       "    }\n",
       "\n",
       "    .dataframe tbody tr th {\n",
       "        vertical-align: top;\n",
       "    }\n",
       "\n",
       "    .dataframe thead th {\n",
       "        text-align: right;\n",
       "    }\n",
       "</style>\n",
       "<table border=\"1\" class=\"dataframe\">\n",
       "  <thead>\n",
       "    <tr style=\"text-align: right;\">\n",
       "      <th></th>\n",
       "      <th>Gender</th>\n",
       "      <th>Height</th>\n",
       "    </tr>\n",
       "  </thead>\n",
       "  <tbody>\n",
       "    <tr>\n",
       "      <th>0</th>\n",
       "      <td>1</td>\n",
       "      <td>73.847017</td>\n",
       "    </tr>\n",
       "    <tr>\n",
       "      <th>1</th>\n",
       "      <td>1</td>\n",
       "      <td>68.781904</td>\n",
       "    </tr>\n",
       "    <tr>\n",
       "      <th>2</th>\n",
       "      <td>1</td>\n",
       "      <td>74.110105</td>\n",
       "    </tr>\n",
       "    <tr>\n",
       "      <th>3</th>\n",
       "      <td>1</td>\n",
       "      <td>71.730978</td>\n",
       "    </tr>\n",
       "    <tr>\n",
       "      <th>4</th>\n",
       "      <td>1</td>\n",
       "      <td>69.881796</td>\n",
       "    </tr>\n",
       "    <tr>\n",
       "      <th>...</th>\n",
       "      <td>...</td>\n",
       "      <td>...</td>\n",
       "    </tr>\n",
       "    <tr>\n",
       "      <th>9995</th>\n",
       "      <td>0</td>\n",
       "      <td>66.172652</td>\n",
       "    </tr>\n",
       "    <tr>\n",
       "      <th>9996</th>\n",
       "      <td>0</td>\n",
       "      <td>67.067155</td>\n",
       "    </tr>\n",
       "    <tr>\n",
       "      <th>9997</th>\n",
       "      <td>0</td>\n",
       "      <td>63.867992</td>\n",
       "    </tr>\n",
       "    <tr>\n",
       "      <th>9998</th>\n",
       "      <td>0</td>\n",
       "      <td>69.034243</td>\n",
       "    </tr>\n",
       "    <tr>\n",
       "      <th>9999</th>\n",
       "      <td>0</td>\n",
       "      <td>61.944246</td>\n",
       "    </tr>\n",
       "  </tbody>\n",
       "</table>\n",
       "<p>10000 rows × 2 columns</p>\n",
       "</div>"
      ],
      "text/plain": [
       "      Gender     Height\n",
       "0          1  73.847017\n",
       "1          1  68.781904\n",
       "2          1  74.110105\n",
       "3          1  71.730978\n",
       "4          1  69.881796\n",
       "...      ...        ...\n",
       "9995       0  66.172652\n",
       "9996       0  67.067155\n",
       "9997       0  63.867992\n",
       "9998       0  69.034243\n",
       "9999       0  61.944246\n",
       "\n",
       "[10000 rows x 2 columns]"
      ]
     },
     "execution_count": 10,
     "metadata": {},
     "output_type": "execute_result"
    }
   ],
   "source": [
    "X"
   ]
  },
  {
   "cell_type": "code",
   "execution_count": 11,
   "metadata": {
    "colab": {
     "base_uri": "https://localhost:8080/"
    },
    "id": "mQNBmRJ1YS8s",
    "outputId": "0f64fb08-a46d-401a-da4e-554d845c17ab"
   },
   "outputs": [
    {
     "data": {
      "text/plain": [
       "0       241.893563\n",
       "1       162.310473\n",
       "2       212.740856\n",
       "3       220.042470\n",
       "4       206.349801\n",
       "           ...    \n",
       "9995    136.777454\n",
       "9996    170.867906\n",
       "9997    128.475319\n",
       "9998    163.852461\n",
       "9999    113.649103\n",
       "Name: Weight, Length: 10000, dtype: float64"
      ]
     },
     "execution_count": 11,
     "metadata": {},
     "output_type": "execute_result"
    }
   ],
   "source": [
    "y"
   ]
  },
  {
   "cell_type": "code",
   "execution_count": 12,
   "metadata": {
    "colab": {
     "base_uri": "https://localhost:8080/"
    },
    "id": "WJPD2OpHYTgx",
    "outputId": "57dfe3f5-0430-408a-d66e-168073f9d5dc"
   },
   "outputs": [
    {
     "name": "stdout",
     "output_type": "stream",
     "text": [
      "<class 'pandas.core.frame.DataFrame'>\n",
      "RangeIndex: 10000 entries, 0 to 9999\n",
      "Data columns (total 2 columns):\n",
      " #   Column  Non-Null Count  Dtype  \n",
      "---  ------  --------------  -----  \n",
      " 0   Gender  10000 non-null  int32  \n",
      " 1   Height  10000 non-null  float64\n",
      "dtypes: float64(1), int32(1)\n",
      "memory usage: 117.3 KB\n"
     ]
    }
   ],
   "source": [
    "X.info()"
   ]
  },
  {
   "cell_type": "markdown",
   "metadata": {
    "id": "5IMNyWKE3R7_"
   },
   "source": [
    "###Modeling"
   ]
  },
  {
   "cell_type": "code",
   "execution_count": 13,
   "metadata": {
    "id": "i4MFd-QDVV12"
   },
   "outputs": [],
   "source": [
    "list_akurasi = []"
   ]
  },
  {
   "cell_type": "markdown",
   "metadata": {
    "id": "iY1z0pNU1Q5-"
   },
   "source": [
    "####Linear Regression"
   ]
  },
  {
   "cell_type": "code",
   "execution_count": 14,
   "metadata": {
    "colab": {
     "base_uri": "https://localhost:8080/"
    },
    "id": "nNoO9IKk31kN",
    "outputId": "b9545edb-bb64-4a8d-bdc8-bd700bc1c170",
    "scrolled": false
   },
   "outputs": [
    {
     "name": "stdout",
     "output_type": "stream",
     "text": [
      "Akurasi Model menggunakan Algoritma Linear Regression : 90.64402663079244%\n",
      "\n",
      "MAE  : 7.9710\n",
      "MAPE : 0.0511\n",
      "MSE  : 97.8712\n",
      "RMSE : 9.8930\n"
     ]
    }
   ],
   "source": [
    "#Training Model\n",
    "log_regr = LinearRegression()\n",
    "X_train, X_test, y_train, y_test = train_test_split(X, y)\n",
    "\n",
    "modelLR = log_regr.fit(X_train, y_train)\n",
    "y_pred = log_regr.predict(X_test)\n",
    "\n",
    "accuracy = modelLR.score(X_test, y_test)\n",
    "akurasiLR = accuracy * 100\n",
    "list_akurasi.append(akurasiLR)\n",
    "\n",
    "print(f\"Akurasi Model menggunakan Algoritma Linear Regression : {akurasiLR}%\\n\")\n",
    "print(\"MAE  : %.4f\"%(mean_absolute_error(y_pred, y_test)))\n",
    "print(\"MAPE : %.4f\"%(mean_absolute_percentage_error(y_pred, y_test)))\n",
    "print(\"MSE  : %.4f\"%(mean_squared_error(y_pred, y_test)))\n",
    "print(\"RMSE : %.4f\"%(mean_squared_error(y_pred, y_test, squared=False)))\n"
   ]
  },
  {
   "cell_type": "markdown",
   "metadata": {
    "id": "8517293iQ-HK"
   },
   "source": [
    "####KNN"
   ]
  },
  {
   "cell_type": "code",
   "execution_count": 15,
   "metadata": {
    "colab": {
     "base_uri": "https://localhost:8080/"
    },
    "id": "s9DyO1OERFeL",
    "outputId": "6aed5710-aa46-4200-c154-938ad68f179f"
   },
   "outputs": [
    {
     "name": "stdout",
     "output_type": "stream",
     "text": [
      "Akurasi Model menggunakan Algoritma KNN : 88.80338648917888%\n",
      "\n",
      "MAE  : 8.2983\n",
      "MAPE : 0.0539\n",
      "MSE  : 109.6187\n",
      "RMSE : 10.4699\n"
     ]
    }
   ],
   "source": [
    "#Training Model\n",
    "modelKNN = KNeighborsRegressor(n_neighbors=10)\n",
    "X_train, X_test, y_train, y_test = train_test_split(X, y, test_size = 0.2)\n",
    "\n",
    "modelKNN = modelKNN.fit(X_train, y_train)\n",
    "y_pred = modelKNN.predict(X_test)\n",
    "\n",
    "accuracy = modelKNN.score(X_test, y_test)\n",
    "akurasiKNN = accuracy * 100\n",
    "list_akurasi.append(akurasiKNN)\n",
    "\n",
    "print(f\"Akurasi Model menggunakan Algoritma KNN : {akurasiKNN}%\\n\")\n",
    "print(\"MAE  : %.4f\"%(mean_absolute_error(y_pred, y_test)))\n",
    "print(\"MAPE : %.4f\"%(mean_absolute_percentage_error(y_pred, y_test)))\n",
    "print(\"MSE  : %.4f\"%(mean_squared_error(y_pred, y_test)))\n",
    "print(\"RMSE : %.4f\"%(mean_squared_error(y_pred, y_test, squared=False)))"
   ]
  },
  {
   "cell_type": "markdown",
   "metadata": {
    "id": "xMab9CAhRF0t"
   },
   "source": [
    "####Random Forest"
   ]
  },
  {
   "cell_type": "code",
   "execution_count": 16,
   "metadata": {
    "colab": {
     "base_uri": "https://localhost:8080/"
    },
    "id": "E_lrc8OoRIbh",
    "outputId": "06a2cdf4-e48a-41f5-9185-f334ffc00abf"
   },
   "outputs": [
    {
     "name": "stdout",
     "output_type": "stream",
     "text": [
      "Akurasi Model menggunakan Algoritma Random Forest : 85.8895014835538%\n",
      "\n",
      "MAE  : 9.5612\n",
      "MAPE : 0.0617\n",
      "MSE  : 144.6410\n",
      "RMSE : 12.0267\n"
     ]
    }
   ],
   "source": [
    "#Training Model\n",
    "modelRF = RandomForestRegressor()\n",
    "X_train, X_test, y_train, y_test = train_test_split(X, y, test_size = 0.3)\n",
    "\n",
    "modelRF = modelRF.fit(X_train, y_train)\n",
    "y_pred = modelRF.predict(X_test)\n",
    "\n",
    "accuracy = modelRF.score(X_test, y_test)\n",
    "akurasiRF = accuracy * 100\n",
    "list_akurasi.append(akurasiRF)\n",
    "\n",
    "print(f\"Akurasi Model menggunakan Algoritma Random Forest : {akurasiRF}%\\n\")\n",
    "print(\"MAE  : %.4f\"%(mean_absolute_error(y_pred, y_test)))\n",
    "print(\"MAPE : %.4f\"%(mean_absolute_percentage_error(y_pred, y_test)))\n",
    "print(\"MSE  : %.4f\"%(mean_squared_error(y_pred, y_test)))\n",
    "print(\"RMSE : %.4f\"%(mean_squared_error(y_pred, y_test, squared=False)))"
   ]
  },
  {
   "cell_type": "markdown",
   "metadata": {
    "id": "EZddYEznRIvz"
   },
   "source": [
    "####SVR"
   ]
  },
  {
   "cell_type": "code",
   "execution_count": 17,
   "metadata": {
    "colab": {
     "base_uri": "https://localhost:8080/"
    },
    "id": "BP0_CjcWQhnc",
    "outputId": "aa101fda-0faa-46f1-e4e9-edae1262f3c8"
   },
   "outputs": [
    {
     "name": "stdout",
     "output_type": "stream",
     "text": [
      "Akurasi Model menggunakan Algoritma SVM : 90.10726060550897%\n",
      "\n",
      "MAE  : 8.2414\n",
      "MAPE : 0.0527\n",
      "MSE  : 105.9653\n",
      "RMSE : 10.2939\n"
     ]
    }
   ],
   "source": [
    "#Training Model\n",
    "modelSVR = SVR(kernel='linear')\n",
    "X_train, X_test, y_train, y_test = train_test_split(X, y, test_size = 0.2)\n",
    "\n",
    "modelSVM = modelSVR.fit(X_train, y_train)\n",
    "y_pred = modelSVR.predict(X_test)\n",
    "\n",
    "accuracy = modelSVR.score(X_test, y_test)\n",
    "akurasiSVR = accuracy * 100\n",
    "list_akurasi.append(akurasiSVR)\n",
    "\n",
    "print(f\"Akurasi Model menggunakan Algoritma SVM : {akurasiSVR}%\\n\")\n",
    "print(\"MAE  : %.4f\"%(mean_absolute_error(y_pred, y_test)))\n",
    "print(\"MAPE : %.4f\"%(mean_absolute_percentage_error(y_pred, y_test)))\n",
    "print(\"MSE  : %.4f\"%(mean_squared_error(y_pred, y_test)))\n",
    "print(\"RMSE : %.4f\"%(mean_squared_error(y_pred, y_test, squared=False)))"
   ]
  },
  {
   "cell_type": "markdown",
   "metadata": {
    "id": "TUvW96JaS5BA"
   },
   "source": [
    "####Decision Tree"
   ]
  },
  {
   "cell_type": "code",
   "execution_count": 18,
   "metadata": {
    "colab": {
     "base_uri": "https://localhost:8080/"
    },
    "id": "CRpGksa2S5zu",
    "outputId": "f762f743-e41b-470f-8409-c0c917b48e80"
   },
   "outputs": [
    {
     "name": "stdout",
     "output_type": "stream",
     "text": [
      "Akurasi Model menggunakan Algoritma Decision Tree : 81.17271491794199%\n",
      "\n",
      "MAE  : 11.2087\n",
      "MAPE : 0.0730\n",
      "MSE  : 194.9697\n",
      "RMSE : 13.9632\n"
     ]
    }
   ],
   "source": [
    "#Training Model\n",
    "modelDT = DecisionTreeRegressor()\n",
    "X_train, X_test, y_train, y_test = train_test_split(X, y, test_size = 0.2)\n",
    "\n",
    "modelDT = modelDT.fit(X_train, y_train)\n",
    "y_pred = modelDT.predict(X_test)\n",
    "\n",
    "accuracy = modelDT.score(X_test, y_test)\n",
    "akurasiDT = accuracy * 100\n",
    "list_akurasi.append(akurasiDT)\n",
    "\n",
    "print(f\"Akurasi Model menggunakan Algoritma Decision Tree : {akurasiDT}%\\n\")\n",
    "print(\"MAE  : %.4f\"%(mean_absolute_error(y_pred, y_test)))\n",
    "print(\"MAPE : %.4f\"%(mean_absolute_percentage_error(y_pred, y_test)))\n",
    "print(\"MSE  : %.4f\"%(mean_squared_error(y_pred, y_test)))\n",
    "print(\"RMSE : %.4f\"%(mean_squared_error(y_pred, y_test, squared=False)))"
   ]
  },
  {
   "cell_type": "markdown",
   "metadata": {
    "id": "41E-JomnS6HB"
   },
   "source": [
    "####Polynomial Regression"
   ]
  },
  {
   "cell_type": "code",
   "execution_count": 19,
   "metadata": {
    "colab": {
     "base_uri": "https://localhost:8080/"
    },
    "id": "sNcj1K4_S6Zd",
    "outputId": "f355e0d2-ebf8-435f-b7da-e2f77b4aecd3"
   },
   "outputs": [
    {
     "name": "stdout",
     "output_type": "stream",
     "text": [
      "Akurasi Model menggunakan Algoritma Polynomial Regression : 89.9999977408249%\n",
      "\n",
      "MAE  : 8.0738\n",
      "MAPE : 0.0521\n",
      "MSE  : 102.5675\n",
      "RMSE : 10.1276\n"
     ]
    }
   ],
   "source": [
    "#Training Model\n",
    "poly = PolynomialFeatures(degree=2)\n",
    "X_poly = poly.fit_transform(X)\n",
    "\n",
    "modelPR = LinearRegression()\n",
    "X_train, X_test, y_train, y_test = train_test_split(X_poly, y, test_size = 0.3)\n",
    "\n",
    "model = modelPR.fit(X_train, y_train)\n",
    "y_pred = modelPR.predict(X_test)\n",
    "\n",
    "accuracy = modelPR.score(X_test, y_test)\n",
    "akurasiPR = accuracy * 100\n",
    "list_akurasi.append(akurasiPR)\n",
    "\n",
    "print(f\"Akurasi Model menggunakan Algoritma Polynomial Regression : {akurasiPR}%\\n\")\n",
    "print(\"MAE  : %.4f\"%(mean_absolute_error(y_pred, y_test)))\n",
    "print(\"MAPE : %.4f\"%(mean_absolute_percentage_error(y_pred, y_test)))\n",
    "print(\"MSE  : %.4f\"%(mean_squared_error(y_pred, y_test)))\n",
    "print(\"RMSE : %.4f\"%(mean_squared_error(y_pred, y_test, squared=False)))"
   ]
  },
  {
   "cell_type": "markdown",
   "metadata": {
    "id": "DBnpU3hKRQ0A"
   },
   "source": [
    "###Memilih model dengan akurasi terbaik untuk di deploy"
   ]
  },
  {
   "cell_type": "code",
   "execution_count": 20,
   "metadata": {
    "colab": {
     "base_uri": "https://localhost:8080/"
    },
    "id": "TR2-BD4_RPO5",
    "outputId": "3e11dacc-209d-4d77-c99a-31b78c6cdb56"
   },
   "outputs": [
    {
     "name": "stdout",
     "output_type": "stream",
     "text": [
      "Algoritma yang menghasilkan AKURASI MODEL TERBAIK adalah Linear Regression\n",
      "\n"
     ]
    }
   ],
   "source": [
    "list_akurasi.sort()\n",
    "#Melihat Algoritma mana yang menghasilkan akurasi model Tertinggi\n",
    "if list_akurasi[5] == akurasiLR:\n",
    "  joblib.dump((modelLR), \"weight-prediction.pkl\")\n",
    "  print(\"Algoritma yang menghasilkan AKURASI MODEL TERBAIK adalah Linear Regression\\n\")\n",
    "\n",
    "elif list_akurasi[5] == akurasiPR:\n",
    "  joblib.dump((modelPR), \"weight-prediction.pkl\")\n",
    "  print(\"Algoritma yang menghasilkan AKURASI MODEL TERBAIK adalah Polynomial Regression\\n\")\n",
    "  \n",
    "elif list_akurasi[5] == akurasiSVR:\n",
    "  joblib.dump((modelSVR), \"weight-prediction.pkl\")\n",
    "  print(\"Algoritma yang menghasilkan AKURASI MODEL TERBAIK adalah SVR\\n\")\n",
    "  \n",
    "elif list_akurasi[5] == akurasiDT:\n",
    "  joblib.dump((modelDT), \"weight-prediction.pkl\")\n",
    "  print(\"Algoritma yang menghasilkan AKURASI MODEL TERBAIK adalah Decision Tree\\n\")\n",
    "  \n",
    "elif list_akurasi[0] == akurasiRF:\n",
    "  joblib.dump((modelRF), \"weight-prediction.pkl\")\n",
    "  print(\"Algoritma yang menghasilkan AKURASI MODEL TERBAIK adalah Random Forest\\n\")\n",
    "  \n",
    "else:\n",
    "  joblib.dump((modelKNN), \"weight-prediction.pkl\")\n",
    "  print(\"Algoritma yang menghasilkan AKURASI MODEL TERBAIK adalah KNN\\n\")\n"
   ]
  }
 ],
 "metadata": {
  "colab": {
   "include_colab_link": true,
   "provenance": [],
   "toc_visible": true
  },
  "kernelspec": {
   "display_name": "Python 3 (ipykernel)",
   "language": "python",
   "name": "python3"
  },
  "language_info": {
   "codemirror_mode": {
    "name": "ipython",
    "version": 3
   },
   "file_extension": ".py",
   "mimetype": "text/x-python",
   "name": "python",
   "nbconvert_exporter": "python",
   "pygments_lexer": "ipython3",
   "version": "3.9.7"
  }
 },
 "nbformat": 4,
 "nbformat_minor": 1
}
