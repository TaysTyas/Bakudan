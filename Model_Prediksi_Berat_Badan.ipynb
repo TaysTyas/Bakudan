{
  "nbformat": 4,
  "nbformat_minor": 0,
  "metadata": {
    "colab": {
      "provenance": [],
      "authorship_tag": "ABX9TyNXzY5627jbtVFtc1qbTSml",
      "include_colab_link": true
    },
    "kernelspec": {
      "name": "python3",
      "display_name": "Python 3"
    },
    "language_info": {
      "name": "python"
    }
  },
  "cells": [
    {
      "cell_type": "markdown",
      "metadata": {
        "id": "view-in-github",
        "colab_type": "text"
      },
      "source": [
        "<a href=\"https://colab.research.google.com/github/TaysTyas/Bakudan/blob/Main/Model_Prediksi_Berat_Badan.ipynb\" target=\"_parent\"><img src=\"https://colab.research.google.com/assets/colab-badge.svg\" alt=\"Open In Colab\"/></a>"
      ]
    },
    {
      "cell_type": "markdown",
      "source": [
        "#Modelling Prediksi Berat Badan"
      ],
      "metadata": {
        "id": "tX44oKs5wCo1"
      }
    },
    {
      "cell_type": "markdown",
      "source": [
        "###Import Library"
      ],
      "metadata": {
        "id": "UFnQOnyDwZ-8"
      }
    },
    {
      "cell_type": "code",
      "source": [
        "import pandas as pd\n",
        "import numpy as np\n",
        "import sklearn.preprocessing as pre\n",
        "from sklearn.linear_model import LinearRegression, Lasso, Ridge\n",
        "from sklearn.model_selection import train_test_split,cross_val_score,RepeatedKFold\n",
        "import warnings\n",
        "from sklearn.metrics import mean_squared_error, mean_absolute_percentage_error,mean_absolute_error\n",
        "warnings.filterwarnings('ignore')\n",
        "import joblib"
      ],
      "metadata": {
        "id": "X7VLLkypwBhS"
      },
      "execution_count": null,
      "outputs": []
    },
    {
      "cell_type": "markdown",
      "source": [
        "###Data Preprocessing"
      ],
      "metadata": {
        "id": "LExQawh83Ovv"
      }
    },
    {
      "cell_type": "code",
      "source": [],
      "metadata": {
        "id": "L0_E1l8E3S72"
      },
      "execution_count": null,
      "outputs": []
    },
    {
      "cell_type": "markdown",
      "source": [
        "###Modeling"
      ],
      "metadata": {
        "id": "5IMNyWKE3R7_"
      }
    },
    {
      "cell_type": "code",
      "source": [],
      "metadata": {
        "id": "nNoO9IKk31kN"
      },
      "execution_count": null,
      "outputs": []
    },
    {
      "cell_type": "code",
      "source": [],
      "metadata": {
        "id": "Nn13vOSQBclM"
      },
      "execution_count": null,
      "outputs": []
    }
  ]
}